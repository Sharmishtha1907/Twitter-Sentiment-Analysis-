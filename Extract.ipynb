{
 "cells": [
  {
   "cell_type": "code",
   "execution_count": 17,
   "id": "de020204",
   "metadata": {},
   "outputs": [],
   "source": [
    "import tweepy\n",
    "import pandas as pd"
   ]
  },
  {
   "cell_type": "code",
   "execution_count": 18,
   "id": "2663623b",
   "metadata": {},
   "outputs": [],
   "source": [
    "%run ./keys.ipynb"
   ]
  },
  {
   "cell_type": "code",
   "execution_count": 19,
   "id": "7578ab02",
   "metadata": {},
   "outputs": [],
   "source": [
    "auth = tweepy.OAuthHandler(cons_key,cons_sec)\n",
    "auth.set_access_token(access_token,access_sec)\n",
    "api = tweepy.API(auth)\n"
   ]
  },
  {
   "cell_type": "code",
   "execution_count": 20,
   "id": "da409448",
   "metadata": {},
   "outputs": [],
   "source": [
    "cursor = tweepy.Cursor(api.search_tweets, q=\"#Flood\",lang=\"en\",tweet_mode=\"extended\").items(500)"
   ]
  },
  {
   "cell_type": "code",
   "execution_count": 21,
   "id": "efc801ca",
   "metadata": {},
   "outputs": [
    {
     "name": "stdout",
     "output_type": "stream",
     "text": [
      "['__class__', '__delattr__', '__dict__', '__dir__', '__doc__', '__eq__', '__format__', '__ge__', '__getattribute__', '__getstate__', '__gt__', '__hash__', '__init__', '__init_subclass__', '__le__', '__lt__', '__module__', '__ne__', '__new__', '__reduce__', '__reduce_ex__', '__repr__', '__setattr__', '__sizeof__', '__slots__', '__str__', '__subclasshook__', '__weakref__', '_api', '_json', 'author', 'contributors', 'coordinates', 'created_at', 'destroy', 'display_text_range', 'entities', 'favorite', 'favorite_count', 'favorited', 'full_text', 'geo', 'id', 'id_str', 'in_reply_to_screen_name', 'in_reply_to_status_id', 'in_reply_to_status_id_str', 'in_reply_to_user_id', 'in_reply_to_user_id_str', 'is_quote_status', 'lang', 'metadata', 'parse', 'parse_list', 'place', 'possibly_sensitive', 'retweet', 'retweet_count', 'retweeted', 'retweets', 'source', 'source_url', 'truncated', 'user']\n",
      "Ottawa should help B.C. create better #flood relief plan, Senate report finds | CBC News https://t.co/gkG3KYiDbU\n"
     ]
    }
   ],
   "source": [
    "for i in cursor:\n",
    "    print(dir(i))\n",
    "    print (i.full_text)\n",
    "    break\n",
    "    "
   ]
  },
  {
   "cell_type": "code",
   "execution_count": 22,
   "id": "11111a5a",
   "metadata": {},
   "outputs": [],
   "source": [
    "user=[]\n",
    "tweet=[]\n",
    "likes=[]\n",
    "time=[]\n",
    "\n"
   ]
  },
  {
   "cell_type": "code",
   "execution_count": 23,
   "id": "f7c6f3ab-00d2-4c38-8620-228b3bd8464b",
   "metadata": {},
   "outputs": [],
   "source": [
    "for tweets in cursor:\n",
    "    user.append(id)\n",
    "    tweet.append(tweets.full_text)\n",
    "    likes.append(tweets.favorite_count)\n",
    "    time.append(tweets.created_at)\n",
    "    \n",
    "    \n",
    "    "
   ]
  },
  {
   "cell_type": "code",
   "execution_count": 24,
   "id": "4bc3affa-5619-4ff3-8ca8-de26a8ce7181",
   "metadata": {},
   "outputs": [],
   "source": [
    "tweet=pd.DataFrame({'USER':user,'TWEET':tweet,'LIKES':likes,'TIME':time})"
   ]
  },
  {
   "cell_type": "code",
   "execution_count": 27,
   "id": "b6560b64-81bf-419b-b39e-42b498107bb9",
   "metadata": {},
   "outputs": [],
   "source": [
    "tweet.columns =['user', 'tweets', 'likes', 'time']"
   ]
  },
  {
   "cell_type": "code",
   "execution_count": 28,
   "id": "9461ff00-8f9d-4d75-940c-81914cc23c1c",
   "metadata": {},
   "outputs": [
    {
     "data": {
      "text/html": [
       "<div>\n",
       "<style scoped>\n",
       "    .dataframe tbody tr th:only-of-type {\n",
       "        vertical-align: middle;\n",
       "    }\n",
       "\n",
       "    .dataframe tbody tr th {\n",
       "        vertical-align: top;\n",
       "    }\n",
       "\n",
       "    .dataframe thead th {\n",
       "        text-align: right;\n",
       "    }\n",
       "</style>\n",
       "<table border=\"1\" class=\"dataframe\">\n",
       "  <thead>\n",
       "    <tr style=\"text-align: right;\">\n",
       "      <th></th>\n",
       "      <th>user</th>\n",
       "      <th>tweets</th>\n",
       "      <th>likes</th>\n",
       "      <th>time</th>\n",
       "    </tr>\n",
       "  </thead>\n",
       "  <tbody>\n",
       "    <tr>\n",
       "      <th>0</th>\n",
       "      <td>&lt;built-in function id&gt;</td>\n",
       "      <td>RT @_GlobalCrisis_: ▶️On Oct. 23, #CycloneSitr...</td>\n",
       "      <td>0</td>\n",
       "      <td>2022-10-27 16:35:18+00:00</td>\n",
       "    </tr>\n",
       "    <tr>\n",
       "      <th>1</th>\n",
       "      <td>&lt;built-in function id&gt;</td>\n",
       "      <td>Forecast map for   today.   \\n\\n Radars at  ht...</td>\n",
       "      <td>0</td>\n",
       "      <td>2022-10-27 16:34:00+00:00</td>\n",
       "    </tr>\n",
       "    <tr>\n",
       "      <th>2</th>\n",
       "      <td>&lt;built-in function id&gt;</td>\n",
       "      <td>RT @insurance_ideas: @LunovaInsurance Learn mo...</td>\n",
       "      <td>0</td>\n",
       "      <td>2022-10-27 16:29:45+00:00</td>\n",
       "    </tr>\n",
       "    <tr>\n",
       "      <th>3</th>\n",
       "      <td>&lt;built-in function id&gt;</td>\n",
       "      <td>RT @Indian_Rivers: #Kerala:-Local allege govt ...</td>\n",
       "      <td>0</td>\n",
       "      <td>2022-10-27 16:29:28+00:00</td>\n",
       "    </tr>\n",
       "  </tbody>\n",
       "</table>\n",
       "</div>"
      ],
      "text/plain": [
       "                     user                                             tweets  \\\n",
       "0  <built-in function id>  RT @_GlobalCrisis_: ▶️On Oct. 23, #CycloneSitr...   \n",
       "1  <built-in function id>  Forecast map for   today.   \\n\\n Radars at  ht...   \n",
       "2  <built-in function id>  RT @insurance_ideas: @LunovaInsurance Learn mo...   \n",
       "3  <built-in function id>  RT @Indian_Rivers: #Kerala:-Local allege govt ...   \n",
       "\n",
       "   likes                      time  \n",
       "0      0 2022-10-27 16:35:18+00:00  \n",
       "1      0 2022-10-27 16:34:00+00:00  \n",
       "2      0 2022-10-27 16:29:45+00:00  \n",
       "3      0 2022-10-27 16:29:28+00:00  "
      ]
     },
     "execution_count": 28,
     "metadata": {},
     "output_type": "execute_result"
    }
   ],
   "source": [
    "tweet.head()\n"
   ]
  },
  {
   "cell_type": "code",
   "execution_count": null,
   "id": "5e0bdbf2-ddb0-4206-bfec-04bcf025ccf4",
   "metadata": {},
   "outputs": [],
   "source": []
  },
  {
   "cell_type": "code",
   "execution_count": null,
   "id": "09196e78-e646-4216-a2fb-da97efcc2a79",
   "metadata": {},
   "outputs": [],
   "source": []
  },
  {
   "cell_type": "code",
   "execution_count": null,
   "id": "4943fdca-9a8f-475c-bcbe-086ec3d88efe",
   "metadata": {},
   "outputs": [],
   "source": []
  },
  {
   "cell_type": "code",
   "execution_count": null,
   "id": "4c33c351-2b11-4ced-8f23-ddfc09292822",
   "metadata": {},
   "outputs": [],
   "source": []
  }
 ],
 "metadata": {
  "kernelspec": {
   "display_name": "Python 3 (ipykernel)",
   "language": "python",
   "name": "python3"
  },
  "language_info": {
   "codemirror_mode": {
    "name": "ipython",
    "version": 3
   },
   "file_extension": ".py",
   "mimetype": "text/x-python",
   "name": "python",
   "nbconvert_exporter": "python",
   "pygments_lexer": "ipython3",
   "version": "3.10.4"
  }
 },
 "nbformat": 4,
 "nbformat_minor": 5
}
