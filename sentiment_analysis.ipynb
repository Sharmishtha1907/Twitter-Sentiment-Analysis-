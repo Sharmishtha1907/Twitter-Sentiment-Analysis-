{
 "cells": [
  {
   "cell_type": "code",
   "execution_count": 157,
   "id": "683aa5bc",
   "metadata": {
    "papermill": {
     "duration": 1.583702,
     "end_time": "2022-08-04T13:56:45.839593",
     "exception": false,
     "start_time": "2022-08-04T13:56:44.255891",
     "status": "completed"
    },
    "tags": []
   },
   "outputs": [],
   "source": [
    "import numpy as np\n",
    "import pandas as pd\n",
    "import seaborn as sns\n",
    "import matplotlib.pyplot as plt\n",
    "from wordcloud import WordCloud, STOPWORDS, ImageColorGenerator\n",
    "import nltk\n",
    "import re\n",
    "from nltk.corpus import stopwords\n",
    "import string\n"
   ]
  },
  {
   "cell_type": "code",
   "execution_count": 158,
   "id": "3239e016",
   "metadata": {
    "papermill": {
     "duration": 0.09564,
     "end_time": "2022-08-04T13:56:45.943492",
     "exception": false,
     "start_time": "2022-08-04T13:56:45.847852",
     "status": "completed"
    },
    "tags": []
   },
   "outputs": [
    {
     "name": "stderr",
     "output_type": "stream",
     "text": [
      "[nltk_data] Downloading package stopwords to\n",
      "[nltk_data]     C:\\Users\\91630\\AppData\\Roaming\\nltk_data...\n",
      "[nltk_data]   Package stopwords is already up-to-date!\n"
     ]
    }
   ],
   "source": [
    "nltk.download('stopwords')\n",
    "stemmer = nltk.SnowballStemmer(\"english\")\n",
    "stopword=set(stopwords.words('english'))"
   ]
  },
  {
   "cell_type": "code",
   "execution_count": 159,
   "id": "613868de-bbfd-473b-a0d7-68b410fce096",
   "metadata": {},
   "outputs": [],
   "source": [
    "#nltk.download()"
   ]
  },
  {
   "cell_type": "code",
   "execution_count": null,
   "id": "00a1564c",
   "metadata": {
    "papermill": {
     "duration": 5.521716,
     "end_time": "2022-08-04T13:56:51.473506",
     "exception": false,
     "start_time": "2022-08-04T13:56:45.951790",
     "status": "completed"
    },
    "tags": []
   },
   "outputs": [],
   "source": []
  },
  {
   "cell_type": "code",
   "execution_count": 160,
   "id": "ab0e82c4",
   "metadata": {
    "papermill": {
     "duration": 0.060091,
     "end_time": "2022-08-04T13:56:51.542053",
     "exception": false,
     "start_time": "2022-08-04T13:56:51.481962",
     "status": "completed"
    },
    "tags": []
   },
   "outputs": [],
   "source": [
    "df=pd.read_csv('train (2).csv')"
   ]
  },
  {
   "cell_type": "code",
   "execution_count": 161,
   "id": "0d9d5ce7",
   "metadata": {
    "papermill": {
     "duration": 0.084295,
     "end_time": "2022-08-04T13:56:51.634820",
     "exception": false,
     "start_time": "2022-08-04T13:56:51.550525",
     "status": "completed"
    },
    "tags": []
   },
   "outputs": [
    {
     "name": "stdout",
     "output_type": "stream",
     "text": [
      "<class 'pandas.core.frame.DataFrame'>\n",
      "RangeIndex: 7613 entries, 0 to 7612\n",
      "Data columns (total 5 columns):\n",
      " #   Column    Non-Null Count  Dtype \n",
      "---  ------    --------------  ----- \n",
      " 0   id        7613 non-null   int64 \n",
      " 1   keyword   7552 non-null   object\n",
      " 2   location  5080 non-null   object\n",
      " 3   text      7613 non-null   object\n",
      " 4   target    7613 non-null   int64 \n",
      "dtypes: int64(2), object(3)\n",
      "memory usage: 297.5+ KB\n"
     ]
    }
   ],
   "source": [
    "df.info()"
   ]
  },
  {
   "cell_type": "code",
   "execution_count": 162,
   "id": "34a157d7",
   "metadata": {
    "papermill": {
     "duration": 0.072117,
     "end_time": "2022-08-04T13:56:51.715307",
     "exception": false,
     "start_time": "2022-08-04T13:56:51.643190",
     "status": "completed"
    },
    "tags": []
   },
   "outputs": [
    {
     "data": {
      "text/plain": [
       "id             0\n",
       "keyword       61\n",
       "location    2533\n",
       "text           0\n",
       "target         0\n",
       "dtype: int64"
      ]
     },
     "execution_count": 162,
     "metadata": {},
     "output_type": "execute_result"
    }
   ],
   "source": [
    "df.isnull().sum()"
   ]
  },
  {
   "cell_type": "code",
   "execution_count": 163,
   "id": "0892a68d",
   "metadata": {
    "papermill": {
     "duration": 0.027875,
     "end_time": "2022-08-04T13:56:51.966754",
     "exception": false,
     "start_time": "2022-08-04T13:56:51.938879",
     "status": "completed"
    },
    "tags": []
   },
   "outputs": [
    {
     "data": {
      "text/html": [
       "<div>\n",
       "<style scoped>\n",
       "    .dataframe tbody tr th:only-of-type {\n",
       "        vertical-align: middle;\n",
       "    }\n",
       "\n",
       "    .dataframe tbody tr th {\n",
       "        vertical-align: top;\n",
       "    }\n",
       "\n",
       "    .dataframe thead th {\n",
       "        text-align: right;\n",
       "    }\n",
       "</style>\n",
       "<table border=\"1\" class=\"dataframe\">\n",
       "  <thead>\n",
       "    <tr style=\"text-align: right;\">\n",
       "      <th></th>\n",
       "      <th>text</th>\n",
       "      <th>target</th>\n",
       "      <th>keyword</th>\n",
       "    </tr>\n",
       "  </thead>\n",
       "  <tbody>\n",
       "    <tr>\n",
       "      <th>0</th>\n",
       "      <td>Our Deeds are the Reason of this #earthquake M...</td>\n",
       "      <td>1</td>\n",
       "      <td>NaN</td>\n",
       "    </tr>\n",
       "    <tr>\n",
       "      <th>1</th>\n",
       "      <td>Forest fire near La Ronge Sask. Canada</td>\n",
       "      <td>1</td>\n",
       "      <td>NaN</td>\n",
       "    </tr>\n",
       "    <tr>\n",
       "      <th>2</th>\n",
       "      <td>All residents asked to 'shelter in place' are ...</td>\n",
       "      <td>1</td>\n",
       "      <td>NaN</td>\n",
       "    </tr>\n",
       "    <tr>\n",
       "      <th>3</th>\n",
       "      <td>13,000 people receive #wildfires evacuation or...</td>\n",
       "      <td>1</td>\n",
       "      <td>NaN</td>\n",
       "    </tr>\n",
       "    <tr>\n",
       "      <th>4</th>\n",
       "      <td>Just got sent this photo from Ruby #Alaska as ...</td>\n",
       "      <td>1</td>\n",
       "      <td>NaN</td>\n",
       "    </tr>\n",
       "  </tbody>\n",
       "</table>\n",
       "</div>"
      ],
      "text/plain": [
       "                                                text  target keyword\n",
       "0  Our Deeds are the Reason of this #earthquake M...       1     NaN\n",
       "1             Forest fire near La Ronge Sask. Canada       1     NaN\n",
       "2  All residents asked to 'shelter in place' are ...       1     NaN\n",
       "3  13,000 people receive #wildfires evacuation or...       1     NaN\n",
       "4  Just got sent this photo from Ruby #Alaska as ...       1     NaN"
      ]
     },
     "execution_count": 163,
     "metadata": {},
     "output_type": "execute_result"
    }
   ],
   "source": [
    "data=pd.concat([df['text'],df['target'],df['keyword']], axis=1)\n",
    "data.head()"
   ]
  },
  {
   "cell_type": "code",
   "execution_count": 164,
   "id": "4aaf3c71",
   "metadata": {
    "papermill": {
     "duration": 0.029257,
     "end_time": "2022-08-04T13:56:52.004958",
     "exception": false,
     "start_time": "2022-08-04T13:56:51.975701",
     "status": "completed"
    },
    "tags": []
   },
   "outputs": [
    {
     "name": "stdout",
     "output_type": "stream",
     "text": [
      "<class 'pandas.core.frame.DataFrame'>\n",
      "RangeIndex: 7613 entries, 0 to 7612\n",
      "Data columns (total 3 columns):\n",
      " #   Column   Non-Null Count  Dtype \n",
      "---  ------   --------------  ----- \n",
      " 0   text     7613 non-null   object\n",
      " 1   target   7613 non-null   int64 \n",
      " 2   keyword  7552 non-null   object\n",
      "dtypes: int64(1), object(2)\n",
      "memory usage: 178.6+ KB\n"
     ]
    }
   ],
   "source": [
    "data.info()\n"
   ]
  },
  {
   "cell_type": "code",
   "execution_count": 165,
   "id": "92a9f403",
   "metadata": {
    "papermill": {
     "duration": 0.021582,
     "end_time": "2022-08-04T13:56:52.035505",
     "exception": false,
     "start_time": "2022-08-04T13:56:52.013923",
     "status": "completed"
    },
    "tags": []
   },
   "outputs": [
    {
     "data": {
      "text/plain": [
       "0    4342\n",
       "1    3271\n",
       "Name: target, dtype: int64"
      ]
     },
     "execution_count": 165,
     "metadata": {},
     "output_type": "execute_result"
    }
   ],
   "source": [
    "data['target'].value_counts()"
   ]
  },
  {
   "cell_type": "code",
   "execution_count": 166,
   "id": "829c5cae",
   "metadata": {
    "papermill": {
     "duration": 0.175896,
     "end_time": "2022-08-04T13:56:52.220445",
     "exception": false,
     "start_time": "2022-08-04T13:56:52.044549",
     "status": "completed"
    },
    "tags": []
   },
   "outputs": [
    {
     "name": "stderr",
     "output_type": "stream",
     "text": [
      "C:\\Users\\91630\\AppData\\Local\\Programs\\Python\\Python310\\lib\\site-packages\\seaborn\\_decorators.py:36: FutureWarning: Pass the following variable as a keyword arg: x. From version 0.12, the only valid positional argument will be `data`, and passing other arguments without an explicit keyword will result in an error or misinterpretation.\n",
      "  warnings.warn(\n"
     ]
    },
    {
     "data": {
      "image/png": "[encoded data removed]",
      "text/plain": [
       "<Figure size 432x288 with 1 Axes>"
      ]
     },
     "metadata": {
      "needs_background": "light"
     },
     "output_type": "display_data"
    }
   ],
   "source": [
    "sns.countplot(data['target'],palette ='Set2')\n",
    "plt.ylabel=('count')\n",
    "plt.xlabel=('sentiment')\n",
    "plt.show()"
   ]
  },
  {
   "cell_type": "code",
   "execution_count": 167,
   "id": "ca0202e1",
   "metadata": {
    "papermill": {
     "duration": 0.169481,
     "end_time": "2022-08-04T13:56:52.402723",
     "exception": false,
     "start_time": "2022-08-04T13:56:52.233242",
     "status": "completed"
    },
    "tags": []
   },
   "outputs": [
    {
     "data": {
      "image/png": "[encoded data removed]",
      "text/plain": [
       "<Figure size 720x720 with 1 Axes>"
      ]
     },
     "metadata": {},
     "output_type": "display_data"
    }
   ],
   "source": [
    "plt.figure(figsize = (10, 10))\n",
    "label=[0,1]\n",
    "plt.pie(data['target'].value_counts(), autopct='%0.2f%%')\n",
    "plt.legend(label, ncol=6, loc=9)\n",
    "plt.title('Distribution of sentiment', size=14, y=-0.01)\n",
    "plt.show()\n"
   ]
  },
  {
   "cell_type": "markdown",
   "id": "d0be9b6b",
   "metadata": {
    "papermill": {
     "duration": 0.012849,
     "end_time": "2022-08-04T13:56:52.428884",
     "exception": false,
     "start_time": "2022-08-04T13:56:52.416035",
     "status": "completed"
    },
    "tags": []
   },
   "source": [
    "# Data Preprocessing"
   ]
  },
  {
   "cell_type": "code",
   "execution_count": 168,
   "id": "e83f057b",
   "metadata": {
    "papermill": {
     "duration": 0.023173,
     "end_time": "2022-08-04T13:56:52.494355",
     "exception": false,
     "start_time": "2022-08-04T13:56:52.471182",
     "status": "completed"
    },
    "tags": []
   },
   "outputs": [],
   "source": [
    "data['sentiment']=data['target']"
   ]
  },
  {
   "cell_type": "code",
   "execution_count": 169,
   "id": "37e80b14",
   "metadata": {
    "papermill": {
     "duration": 0.019414,
     "end_time": "2022-08-04T13:56:52.523424",
     "exception": false,
     "start_time": "2022-08-04T13:56:52.504010",
     "status": "completed"
    },
    "tags": []
   },
   "outputs": [
    {
     "data": {
      "text/plain": [
       "0    4342\n",
       "1    3271\n",
       "Name: sentiment, dtype: int64"
      ]
     },
     "execution_count": 169,
     "metadata": {},
     "output_type": "execute_result"
    }
   ],
   "source": [
    "data['sentiment'].value_counts()"
   ]
  },
  {
   "cell_type": "code",
   "execution_count": 170,
   "id": "5259605b",
   "metadata": {
    "papermill": {
     "duration": 0.134493,
     "end_time": "2022-08-04T13:56:52.667692",
     "exception": false,
     "start_time": "2022-08-04T13:56:52.533199",
     "status": "completed"
    },
    "tags": []
   },
   "outputs": [
    {
     "data": {
      "image/png": "[encoded data removed]",
      "text/plain": [
       "<Figure size 432x288 with 1 Axes>"
      ]
     },
     "metadata": {
      "needs_background": "light"
     },
     "output_type": "display_data"
    }
   ],
   "source": [
    "counts=data['sentiment'].value_counts()\n",
    "plt.bar(counts.index, counts.values)\n",
    "plt.show()"
   ]
  },
  {
   "cell_type": "code",
   "execution_count": 171,
   "id": "b52ec03b",
   "metadata": {
    "papermill": {
     "duration": 0.105071,
     "end_time": "2022-08-04T13:56:52.782867",
     "exception": false,
     "start_time": "2022-08-04T13:56:52.677796",
     "status": "completed"
    },
    "tags": []
   },
   "outputs": [
    {
     "data": {
      "image/png": "[encoded data removed]",
      "text/plain": [
       "<Figure size 504x504 with 1 Axes>"
      ]
     },
     "metadata": {},
     "output_type": "display_data"
    }
   ],
   "source": [
    "plt.figure(figsize = (7, 7))\n",
    "\n",
    "labels = ['POSITIVE', 'NEGATIVE']\n",
    "colors = ['#189AB4', '#86D3E3']\n",
    "plt.pie(data['sentiment'].value_counts(), autopct='%0.2f%%',colors=colors)\n",
    "\n",
    "plt.title('Distribution of sentiment', size=14, y=-0.01)\n",
    "plt.legend(labels, ncol=3, loc=9)\n",
    "plt.show()"
   ]
  },
  {
   "cell_type": "code",
   "execution_count": 172,
   "id": "00276f7a",
   "metadata": {
    "papermill": {
     "duration": 0.23133,
     "end_time": "2022-08-04T13:56:53.024597",
     "exception": false,
     "start_time": "2022-08-04T13:56:52.793267",
     "status": "completed"
    },
    "tags": []
   },
   "outputs": [
    {
     "data": {
      "text/plain": [
       "0                            Our\n",
       "1                          Deeds\n",
       "2                            are\n",
       "3                            the\n",
       "4                         Reason\n",
       "                   ...          \n",
       "113456                  Wildfire\n",
       "113457                         -\n",
       "113458                       ABC\n",
       "113459                      News\n",
       "113460    http://t.co/YmY4rSkQ3d\n",
       "Length: 113461, dtype: object"
      ]
     },
     "execution_count": 172,
     "metadata": {},
     "output_type": "execute_result"
    }
   ],
   "source": [
    "words = pd.Series(' '.join(data['text']).split())\n",
    "words"
   ]
  },
  {
   "cell_type": "code",
   "execution_count": 173,
   "id": "b0e2ea78",
   "metadata": {
    "papermill": {
     "duration": 0.017439,
     "end_time": "2022-08-04T13:56:53.052320",
     "exception": false,
     "start_time": "2022-08-04T13:56:53.034881",
     "status": "completed"
    },
    "tags": []
   },
   "outputs": [],
   "source": [
    "from nltk.tokenize import word_tokenize\n",
    "from nltk.corpus import wordnet\n",
    "from nltk import pos_tag\n",
    "from nltk.stem import WordNetLemmatizer"
   ]
  },
  {
   "cell_type": "code",
   "execution_count": 174,
   "id": "29767435",
   "metadata": {
    "papermill": {
     "duration": 0.01989,
     "end_time": "2022-08-04T13:56:53.102040",
     "exception": false,
     "start_time": "2022-08-04T13:56:53.082150",
     "status": "completed"
    },
    "tags": []
   },
   "outputs": [
    {
     "name": "stdout",
     "output_type": "stream",
     "text": [
      "['i', 'me', 'my', 'myself', 'we', 'our', 'ours', 'ourselves', 'you', \"you're\", \"you've\", \"you'll\", \"you'd\", 'your', 'yours', 'yourself', 'yourselves', 'he', 'him', 'his', 'himself', 'she', \"she's\", 'her', 'hers', 'herself', 'it', \"it's\", 'its', 'itself', 'they', 'them', 'their', 'theirs', 'themselves', 'what', 'which', 'who', 'whom', 'this', 'that', \"that'll\", 'these', 'those', 'am', 'is', 'are', 'was', 'were', 'be', 'been', 'being', 'have', 'has', 'had', 'having', 'do', 'does', 'did', 'doing', 'a', 'an', 'the', 'and', 'but', 'if', 'or', 'because', 'as', 'until', 'while', 'of', 'at', 'by', 'for', 'with', 'about', 'against', 'between', 'into', 'through', 'during', 'before', 'after', 'above', 'below', 'to', 'from', 'up', 'down', 'in', 'out', 'on', 'off', 'over', 'under', 'again', 'further', 'then', 'once', 'here', 'there', 'when', 'where', 'why', 'how', 'all', 'any', 'both', 'each', 'few', 'more', 'most', 'other', 'some', 'such', 'no', 'nor', 'not', 'only', 'own', 'same', 'so', 'than', 'too', 'very', 's', 't', 'can', 'will', 'just', 'don', \"don't\", 'should', \"should've\", 'now', 'd', 'll', 'm', 'o', 're', 've', 'y', 'ain', 'aren', \"aren't\", 'couldn', \"couldn't\", 'didn', \"didn't\", 'doesn', \"doesn't\", 'hadn', \"hadn't\", 'hasn', \"hasn't\", 'haven', \"haven't\", 'isn', \"isn't\", 'ma', 'mightn', \"mightn't\", 'mustn', \"mustn't\", 'needn', \"needn't\", 'shan', \"shan't\", 'shouldn', \"shouldn't\", 'wasn', \"wasn't\", 'weren', \"weren't\", 'won', \"won't\", 'wouldn', \"wouldn't\"]\n",
      "['i', 'me', 'my', 'myself', 'we', 'our', 'ours', 'ourselves', 'you', \"you're\", \"you've\", \"you'll\", \"you'd\", 'your', 'yours', 'yourself', 'yourselves', 'he', 'him', 'his', 'himself', 'she', \"she's\", 'her', 'hers', 'herself', 'it', \"it's\", 'its', 'itself', 'they', 'them', 'their', 'theirs', 'themselves', 'what', 'which', 'who', 'whom', 'this', 'that', \"that'll\", 'these', 'those', 'am', 'is', 'are', 'was', 'were', 'be', 'been', 'being', 'have', 'has', 'had', 'having', 'do', 'does', 'did', 'doing', 'a', 'an', 'the', 'and', 'but', 'if', 'or', 'because', 'as', 'until', 'while', 'of', 'at', 'by', 'for', 'with', 'about', 'against', 'between', 'into', 'through', 'during', 'before', 'after', 'above', 'below', 'to', 'from', 'up', 'down', 'in', 'out', 'on', 'off', 'over', 'under', 'again', 'further', 'then', 'once', 'here', 'there', 'when', 'where', 'why', 'how', 'all', 'any', 'both', 'each', 'few', 'more', 'most', 'other', 'some', 'such', 'only', 'own', 'same', 'so', 'than', 'too', 'very', 's', 't', 'can', 'will', 'just', 'don', 'should', \"should've\", 'd', 'll', 'm', 'o', 're', 've', 'y', 'ain', 'aren', 'couldn', 'didn', 'doesn', 'hadn', 'hasn', 'haven', 'isn', 'ma', 'mightn', 'mustn', 'needn', 'shan', 'shouldn', 'wasn', 'weren', 'won', 'wouldn']\n"
     ]
    }
   ],
   "source": [
    "stopword_list = stopwords.words('english')\n",
    "suitable_stopwords=[]\n",
    "l =[\"n'\",'nor','no','not']\n",
    "for i in stopword_list:\n",
    "    if not any(words in i for words in l):\n",
    "        suitable_stopwords.append(i)\n",
    "print(stopword_list)\n",
    "print(suitable_stopwords)"
   ]
  },
  {
   "cell_type": "code",
   "execution_count": 175,
   "id": "37d53c2a",
   "metadata": {
    "papermill": {
     "duration": 0.022765,
     "end_time": "2022-08-04T13:56:53.135145",
     "exception": false,
     "start_time": "2022-08-04T13:56:53.112380",
     "status": "completed"
    },
    "tags": []
   },
   "outputs": [],
   "source": [
    "suitable_stopwords=['i',\"come\",\"feel\",\"police\",\"day\",\"two\",\"today\",\"let\", 'me', 'my',\"building\",\"car\", 'myself',\"one\",\"think\",\"would\", 'we',\"news\",\"see\",\"via\",\"say\",\"people\", 'our', 'ours', 'ourselves', 'you','' \"you're\", \"you've\", \"you'll\",\"http\",\"co\",\"new\",\"amp\", \"you'd\", 'your', 'yours', 'yourself', 'yourselves', 'he', 'him', 'his', 'himself', 'she', \"she's\", 'her', 'hers', 'herself', 'it', \"it's\", 'its', 'itself', 'they', 'them', 'their', 'theirs', 'themselves', 'what', 'which', 'who',\"go\",\"know\", 'whom', 'this', 'that', \"that'll\", 'these', 'those', 'am', 'is', 'are', 'was', 'were', 'be', 'been', 'being', 'have', 'has', 'had', 'having', 'do', 'does', 'did', 'doing', 'a', 'an', 'the', 'and', 'but', 'if', 'or', 'because', 'as', 'until', 'while', 'of', 'at', 'by', 'for', 'with', 'about', 'against', 'between', 'into', 'through', 'during', 'before', 'after', 'above', 'below', 'to', 'from', 'up', 'down', 'in', 'out', 'on', 'off', 'over', 'under', 'again', 'further', 'then', 'once', 'here', 'there', 'when', 'where', 'why', 'how', 'all', 'any', 'both', 'each', 'few', 'more', 'most', 'other', 'some', 'such', 'no', 'nor', 'not', 'only', 'own', 'same', 'so', 'than', 'too', 'very', 's', 't', 'can', 'will', 'just', 'don', \"don't\", 'should','play','playing','tablet','use','get','kindel','read','book','device','year','time','want', \"should've\", 'now', 'd', 'll', 'm', 'o', 're', 've', 'y']\n",
    "replace_list=['ain', 'aren', 'couldn', 'didn', 'doesn', 'hadn', 'hasn', 'haven', 'isn', 'mightn', 'mustn', 'needn',\n",
    "              'shan', 'shouldn', 'wasn', 'weren', 'won', 'wouldn',\"n't\",\"n'\",\"neg\",\"fire\",\"flood\",\"storm\",\"death\",\"suicide\",\"bomber\",\"kill\",\"bomb\",\"burn\",\"riot\",\"hate\"]\n",
    "pos_list=[\"love\",\"like\",\"happy\",\"sweet\",\"good\",\"lovely\",\"nice\"]\n",
    "safe=suitable_stopwords+replace_list\n",
    "safe2=suitable_stopwords+pos_list"
   ]
  },
  {
   "cell_type": "code",
   "execution_count": 176,
   "id": "6b1ce14d",
   "metadata": {
    "papermill": {
     "duration": 0.018252,
     "end_time": "2022-08-04T13:56:53.163863",
     "exception": false,
     "start_time": "2022-08-04T13:56:53.145611",
     "status": "completed"
    },
    "tags": []
   },
   "outputs": [],
   "source": [
    "def cleanstr(text):\n",
    "    text=text.lower()\n",
    "    text = re.compile('[%s]' % re.escape(string.punctuation)).sub(' ', text)\n",
    "    text = re.sub('\\s+', ' ', text)\n",
    "    text = re.sub(' \\d+', ' ', text)\n",
    "    text=re.sub(r\"http\\S+\", \"\", text)\n",
    "    return text"
   ]
  },
  {
   "cell_type": "code",
   "execution_count": 177,
   "id": "51211ca1",
   "metadata": {
    "papermill": {
     "duration": 0.016922,
     "end_time": "2022-08-04T13:56:53.191147",
     "exception": false,
     "start_time": "2022-08-04T13:56:53.174225",
     "status": "completed"
    },
    "tags": []
   },
   "outputs": [],
   "source": [
    "def remove_stopwords(stmt):\n",
    "    filtered_sentence = []\n",
    "    stmt=stmt.lower()\n",
    "    words = word_tokenize(stmt)\n",
    "    \n",
    "    for w in words:\n",
    "        if w not in suitable_stopwords:\n",
    "            if w not in replace_list :\n",
    "                filtered_sentence.append(w)\n",
    "            else:\n",
    "                if w not in pos_list:\n",
    "                    filtered_sentence.append(w)\n",
    "    return \" \".join(filtered_sentence)"
   ]
  },
  {
   "cell_type": "code",
   "execution_count": 178,
   "id": "3ae68e25",
   "metadata": {
    "papermill": {
     "duration": 0.017157,
     "end_time": "2022-08-04T13:56:53.218767",
     "exception": false,
     "start_time": "2022-08-04T13:56:53.201610",
     "status": "completed"
    },
    "tags": []
   },
   "outputs": [],
   "source": [
    "def get_wordnet_pos(tag):\n",
    "    if tag.startswith('J'):\n",
    "        return wordnet.ADJ\n",
    "    elif tag.startswith('V'):\n",
    "        return wordnet.VERB\n",
    "    elif tag.startswith('N'):\n",
    "        return wordnet.NOUN\n",
    "    elif tag.startswith('R'):\n",
    "        return wordnet.ADV\n",
    "    else:\n",
    "        return wordnet.NOUN"
   ]
  },
  {
   "cell_type": "code",
   "execution_count": 179,
   "id": "d6a55799",
   "metadata": {
    "papermill": {
     "duration": 0.01799,
     "end_time": "2022-08-04T13:56:53.246877",
     "exception": false,
     "start_time": "2022-08-04T13:56:53.228887",
     "status": "completed"
    },
    "tags": []
   },
   "outputs": [],
   "source": [
    "def lemmatize(text):\n",
    "    wl = WordNetLemmatizer()\n",
    "    lemmatized_sentence = []\n",
    "    # Tokenize the sentence\n",
    "    words = word_tokenize(text)\n",
    "    word_pos_tags = nltk.pos_tag(words)\n",
    "    for idx, tag in enumerate(word_pos_tags):\n",
    "        lemmatized_sentence.append(wl.lemmatize(tag[0], get_wordnet_pos(tag[1])))\n",
    "\n",
    "    return \" \".join(lemmatized_sentence)"
   ]
  },
  {
   "cell_type": "code",
   "execution_count": null,
   "id": "efc1e603-219a-4979-8104-5397ea363ad7",
   "metadata": {},
   "outputs": [],
   "source": []
  },
  {
   "cell_type": "code",
   "execution_count": 180,
   "id": "e5872614",
   "metadata": {
    "papermill": {
     "duration": 85.243422,
     "end_time": "2022-08-04T13:58:18.736261",
     "exception": false,
     "start_time": "2022-08-04T13:56:53.492839",
     "status": "completed"
    },
    "tags": []
   },
   "outputs": [
    {
     "data": {
      "text/plain": [
       "'deed reason earthquake may allah forgive u'"
      ]
     },
     "execution_count": 180,
     "metadata": {},
     "output_type": "execute_result"
    }
   ],
   "source": [
    "data['text']=data['text'].apply(cleanstr)\n",
    "data['text']=data['text'].apply(remove_stopwords)\n",
    "data['text']=data['text'].apply(lemmatize)\n",
    "data['text'].iloc[0]"
   ]
  },
  {
   "cell_type": "markdown",
   "id": "af9027ce",
   "metadata": {
    "papermill": {
     "duration": 0.009877,
     "end_time": "2022-08-04T13:58:18.756276",
     "exception": false,
     "start_time": "2022-08-04T13:58:18.746399",
     "status": "completed"
    },
    "tags": []
   },
   "source": [
    "# Word Cloud"
   ]
  },
  {
   "cell_type": "code",
   "execution_count": 181,
   "id": "51491e71",
   "metadata": {
    "papermill": {
     "duration": 0.032687,
     "end_time": "2022-08-04T13:58:18.799375",
     "exception": false,
     "start_time": "2022-08-04T13:58:18.766688",
     "status": "completed"
    },
    "tags": []
   },
   "outputs": [],
   "source": [
    "positive = data[data['sentiment'] == 1]\n",
    "negative = data[data['sentiment'] == 0]\n"
   ]
  },
  {
   "cell_type": "code",
   "execution_count": 182,
   "id": "375f01e0",
   "metadata": {
    "papermill": {
     "duration": 3.781239,
     "end_time": "2022-08-04T13:58:22.591263",
     "exception": false,
     "start_time": "2022-08-04T13:58:18.810024",
     "status": "completed"
    },
    "tags": []
   },
   "outputs": [
    {
     "data": {
      "image/png": "[encoded data removed]",
      "text/plain": [
       "<Figure size 432x288 with 1 Axes>"
      ]
     },
     "metadata": {
      "needs_background": "light"
     },
     "output_type": "display_data"
    }
   ],
   "source": [
    "pos = \" \".join(d for d in positive.text)\n",
    "wordcloud2 = WordCloud(stopwords=safe).generate(pos)\n",
    "plt.imshow(wordcloud2, interpolation='bilinear')\n",
    "plt.axis(\"off\")\n",
    "plt.show()"
   ]
  },
  {
   "cell_type": "code",
   "execution_count": 183,
   "id": "92a07790",
   "metadata": {
    "papermill": {
     "duration": 0.888536,
     "end_time": "2022-08-04T13:58:23.495796",
     "exception": false,
     "start_time": "2022-08-04T13:58:22.607260",
     "status": "completed"
    },
    "tags": []
   },
   "outputs": [
    {
     "data": {
      "image/png": "[encoded data removed]",
      "text/plain": [
       "<Figure size 432x288 with 1 Axes>"
      ]
     },
     "metadata": {
      "needs_background": "light"
     },
     "output_type": "display_data"
    }
   ],
   "source": [
    "neg = \" \".join(d for d in negative.text)\n",
    "wordcloud3 = WordCloud(stopwords=safe2).generate(neg)\n",
    "plt.imshow(wordcloud3, interpolation='bilinear')\n",
    "plt.axis(\"off\")\n",
    "plt.savefig('wordcloud33.png')\n",
    "plt.show()"
   ]
  },
  {
   "cell_type": "code",
   "execution_count": 184,
   "id": "f4f4c923",
   "metadata": {
    "papermill": {
     "duration": 0.037612,
     "end_time": "2022-08-04T13:58:23.939097",
     "exception": false,
     "start_time": "2022-08-04T13:58:23.901485",
     "status": "completed"
    },
    "tags": []
   },
   "outputs": [],
   "source": [
    "index = data.index\n",
    "data['random_number'] = np.random.randn(len(index))\n",
    "train = data[data['random_number'] <= 0.8]\n",
    "test = data[data['random_number'] > 0.8]"
   ]
  },
  {
   "cell_type": "code",
   "execution_count": 185,
   "id": "7fdbc60b",
   "metadata": {
    "papermill": {
     "duration": 0.020152,
     "end_time": "2022-08-04T13:58:23.973278",
     "exception": false,
     "start_time": "2022-08-04T13:58:23.953126",
     "status": "completed"
    },
    "tags": []
   },
   "outputs": [],
   "source": [
    "#Machine learning models \n",
    "from sklearn.linear_model import LogisticRegression\n",
    "from sklearn.linear_model import Perceptron\n",
    "from sklearn.linear_model import SGDClassifier\n",
    "from sklearn.svm import SVC, LinearSVC\n",
    "from sklearn.ensemble import RandomForestClassifier\n",
    "from sklearn.neighbors import KNeighborsClassifier\n",
    "from sklearn.naive_bayes import GaussianNB\n",
    "from sklearn.tree import DecisionTreeClassifier\n"
   ]
  },
  {
   "cell_type": "code",
   "execution_count": 186,
   "id": "5dd12124-8cbe-468b-b043-289d7326999c",
   "metadata": {},
   "outputs": [],
   "source": [
    "from sklearn.feature_extraction.text import TfidfVectorizer\n",
    "from sklearn.model_selection import cross_val_score"
   ]
  },
  {
   "cell_type": "code",
   "execution_count": 187,
   "id": "67382b42",
   "metadata": {
    "papermill": {
     "duration": 1.472156,
     "end_time": "2022-08-04T13:58:25.459303",
     "exception": false,
     "start_time": "2022-08-04T13:58:23.987147",
     "status": "completed"
    },
    "tags": []
   },
   "outputs": [],
   "source": [
    "tfidf = TfidfVectorizer()\n",
    "train_matrix = tfidf.fit_transform(train['text'])\n",
    "test_matrix = tfidf.transform(test['text'])"
   ]
  },
  {
   "cell_type": "code",
   "execution_count": 188,
   "id": "ac31dd2f",
   "metadata": {
    "papermill": {
     "duration": 0.02203,
     "end_time": "2022-08-04T13:58:25.532614",
     "exception": false,
     "start_time": "2022-08-04T13:58:25.510584",
     "status": "completed"
    },
    "tags": []
   },
   "outputs": [],
   "source": [
    "X_train = train_matrix\n",
    "X_test = test_matrix\n",
    "Y_train = train['sentiment']\n",
    "Y_test = test['sentiment']"
   ]
  },
  {
   "cell_type": "code",
   "execution_count": 189,
   "id": "a64c3e29",
   "metadata": {
    "papermill": {
     "duration": 0.798113,
     "end_time": "2022-08-04T13:58:26.345579",
     "exception": false,
     "start_time": "2022-08-04T13:58:25.547466",
     "status": "completed"
    },
    "tags": []
   },
   "outputs": [
    {
     "data": {
      "text/plain": [
       "97.52"
      ]
     },
     "execution_count": 189,
     "metadata": {},
     "output_type": "execute_result"
    }
   ],
   "source": [
    "svm =SVC()\n",
    "svm.fit(X_train, Y_train)\n",
    "pred_y= svm.predict(X_test)\n",
    "acc_svm= round(svm.score(X_train, Y_train)*100,2)\n",
    "acc_svm"
   ]
  },
  {
   "cell_type": "code",
   "execution_count": 190,
   "id": "4bbd088b-3738-41b4-be97-286a8626e76c",
   "metadata": {},
   "outputs": [
    {
     "data": {
      "text/plain": [
       "83.45"
      ]
     },
     "execution_count": 190,
     "metadata": {},
     "output_type": "execute_result"
    }
   ],
   "source": [
    "#K-nearest neighbours (KNN)\n",
    "knn = KNeighborsClassifier(n_neighbors = 5)\n",
    "knn.fit(X_train, Y_train)\n",
    "pred_y = knn.predict(X_test)\n",
    "acc_knn = round(knn.score(X_train, Y_train) * 100, 2)\n",
    "acc_knn"
   ]
  },
  {
   "cell_type": "code",
   "execution_count": 191,
   "id": "d03f999c",
   "metadata": {
    "papermill": {
     "duration": 0.02285,
     "end_time": "2022-08-04T13:58:26.383467",
     "exception": false,
     "start_time": "2022-08-04T13:58:26.360617",
     "status": "completed"
    },
    "tags": []
   },
   "outputs": [
    {
     "data": {
      "text/plain": [
       "89.32"
      ]
     },
     "execution_count": 191,
     "metadata": {},
     "output_type": "execute_result"
    }
   ],
   "source": [
    "#Logistic Regression\n",
    "lr=LogisticRegression()\n",
    "lr.fit(X_train,Y_train)\n",
    "pred_y=lr.predict(X_test)\n",
    "acc_lr=round(lr.score(X_train,Y_train)*100,2)\n",
    "acc_lr"
   ]
  },
  {
   "cell_type": "code",
   "execution_count": 192,
   "id": "2a64bf7f-627c-465f-b420-5f187b5744d1",
   "metadata": {},
   "outputs": [
    {
     "data": {
      "text/plain": [
       "98.72"
      ]
     },
     "execution_count": 192,
     "metadata": {},
     "output_type": "execute_result"
    }
   ],
   "source": [
    "#Linear SVC\n",
    "linear_svc = LinearSVC()\n",
    "linear_svc.fit(X_train, Y_train)\n",
    "pred_y = linear_svc.predict(X_test)\n",
    "acc_linear_svc = round(linear_svc.score(X_train, Y_train) * 100, 2)\n",
    "acc_linear_svc"
   ]
  },
  {
   "cell_type": "code",
   "execution_count": 193,
   "id": "363d9fff-086f-42f5-898d-df6d3fd33d13",
   "metadata": {},
   "outputs": [
    {
     "data": {
      "text/plain": [
       "99.65"
      ]
     },
     "execution_count": 193,
     "metadata": {},
     "output_type": "execute_result"
    }
   ],
   "source": [
    "#Random forest\n",
    "random_forest = RandomForestClassifier(n_estimators = 100)\n",
    "random_forest.fit(X_train, Y_train)\n",
    "Y_pred = random_forest.predict(X_test)\n",
    "acc_random_forest = round(random_forest.score(X_train, Y_train) * 100, 2)\n",
    "acc_random_forest"
   ]
  },
  {
   "cell_type": "code",
   "execution_count": 194,
   "id": "a03ad61a-d260-41fe-b63d-e9334bccc22b",
   "metadata": {},
   "outputs": [
    {
     "data": {
      "text/plain": [
       "99.65"
      ]
     },
     "execution_count": 194,
     "metadata": {},
     "output_type": "execute_result"
    }
   ],
   "source": [
    "#Decision tree\n",
    "decision_tree = DecisionTreeClassifier()\n",
    "decision_tree.fit(X_train, Y_train)\n",
    "Y_pred = decision_tree.predict(X_test)\n",
    "acc_decision_tree = round(decision_tree.score(X_train, Y_train) * 100, 2)\n",
    "acc_decision_tree"
   ]
  },
  {
   "cell_type": "code",
   "execution_count": 195,
   "id": "127dd894-5aa7-4ee7-aa43-31de9d642603",
   "metadata": {},
   "outputs": [
    {
     "data": {
      "text/html": [
       "<div>\n",
       "<style scoped>\n",
       "    .dataframe tbody tr th:only-of-type {\n",
       "        vertical-align: middle;\n",
       "    }\n",
       "\n",
       "    .dataframe tbody tr th {\n",
       "        vertical-align: top;\n",
       "    }\n",
       "\n",
       "    .dataframe thead th {\n",
       "        text-align: right;\n",
       "    }\n",
       "</style>\n",
       "<table border=\"1\" class=\"dataframe\">\n",
       "  <thead>\n",
       "    <tr style=\"text-align: right;\">\n",
       "      <th></th>\n",
       "      <th>Model</th>\n",
       "      <th>Score</th>\n",
       "    </tr>\n",
       "  </thead>\n",
       "  <tbody>\n",
       "    <tr>\n",
       "      <th>0</th>\n",
       "      <td>Random Forest</td>\n",
       "      <td>99.65</td>\n",
       "    </tr>\n",
       "    <tr>\n",
       "      <th>1</th>\n",
       "      <td>Decision Tree</td>\n",
       "      <td>99.65</td>\n",
       "    </tr>\n",
       "    <tr>\n",
       "      <th>2</th>\n",
       "      <td>Linear SVC</td>\n",
       "      <td>98.72</td>\n",
       "    </tr>\n",
       "    <tr>\n",
       "      <th>3</th>\n",
       "      <td>Support Vector Machines</td>\n",
       "      <td>97.52</td>\n",
       "    </tr>\n",
       "    <tr>\n",
       "      <th>4</th>\n",
       "      <td>Logistic Regression</td>\n",
       "      <td>89.32</td>\n",
       "    </tr>\n",
       "    <tr>\n",
       "      <th>5</th>\n",
       "      <td>KNN</td>\n",
       "      <td>83.45</td>\n",
       "    </tr>\n",
       "  </tbody>\n",
       "</table>\n",
       "</div>"
      ],
      "text/plain": [
       "                     Model  Score\n",
       "0            Random Forest  99.65\n",
       "1            Decision Tree  99.65\n",
       "2               Linear SVC  98.72\n",
       "3  Support Vector Machines  97.52\n",
       "4      Logistic Regression  89.32\n",
       "5                      KNN  83.45"
      ]
     },
     "execution_count": 195,
     "metadata": {},
     "output_type": "execute_result"
    }
   ],
   "source": [
    "models = pd.DataFrame({'Model': ['Support Vector Machines', 'KNN', 'Logistic Regression', \n",
    "                                 'Random Forest', 'Linear SVC', 'Decision Tree'],\n",
    "                       'Score': [acc_svm, acc_knn, acc_lr, acc_random_forest, acc_linear_svc, acc_decision_tree]})\n",
    "\n",
    "models.sort_values(by = 'Score', ascending = False, ignore_index = True)"
   ]
  },
  {
   "cell_type": "code",
   "execution_count": 196,
   "id": "95424c2c-7b79-4966-a807-807fc5564860",
   "metadata": {},
   "outputs": [
    {
     "data": {
      "text/plain": [
       "6"
      ]
     },
     "execution_count": 196,
     "metadata": {},
     "output_type": "execute_result"
    }
   ],
   "source": [
    "classifiers = []\n",
    "classifiers.append(LogisticRegression())\n",
    "classifiers.append(SVC())\n",
    "classifiers.append(KNeighborsClassifier(n_neighbors = 5))\n",
    "classifiers.append(LinearSVC())\n",
    "classifiers.append(DecisionTreeClassifier())\n",
    "classifiers.append(RandomForestClassifier())\n",
    "\n",
    "len(classifiers)"
   ]
  },
  {
   "cell_type": "code",
   "execution_count": 197,
   "id": "cb2ff761-b0e2-47c7-8d73-c636e9da14bb",
   "metadata": {},
   "outputs": [],
   "source": [
    "cv_results = []\n",
    "for classifier in classifiers:\n",
    "    cv_results.append(cross_val_score(classifier, X_train, Y_train, scoring = 'accuracy', cv = 6))"
   ]
  },
  {
   "cell_type": "code",
   "execution_count": 198,
   "id": "80d8fc5c-e306-4021-af29-acf9b1e0b8ca",
   "metadata": {},
   "outputs": [],
   "source": [
    "cv_mean = []\n",
    "cv_std = []\n",
    "for cv_result in cv_results:\n",
    "    cv_mean.append(cv_result.mean())\n",
    "    cv_std.append(cv_result.std())"
   ]
  },
  {
   "cell_type": "code",
   "execution_count": 199,
   "id": "ed7be2a6-9bcf-4adb-804c-e24dacd71de6",
   "metadata": {},
   "outputs": [
    {
     "data": {
      "text/html": [
       "<div>\n",
       "<style scoped>\n",
       "    .dataframe tbody tr th:only-of-type {\n",
       "        vertical-align: middle;\n",
       "    }\n",
       "\n",
       "    .dataframe tbody tr th {\n",
       "        vertical-align: top;\n",
       "    }\n",
       "\n",
       "    .dataframe thead th {\n",
       "        text-align: right;\n",
       "    }\n",
       "</style>\n",
       "<table border=\"1\" class=\"dataframe\">\n",
       "  <thead>\n",
       "    <tr style=\"text-align: right;\">\n",
       "      <th></th>\n",
       "      <th>Cross Validation Mean</th>\n",
       "      <th>Cross Validation Std</th>\n",
       "      <th>Algorithm</th>\n",
       "    </tr>\n",
       "  </thead>\n",
       "  <tbody>\n",
       "    <tr>\n",
       "      <th>0</th>\n",
       "      <td>0.699568</td>\n",
       "      <td>0.047921</td>\n",
       "      <td>Logistic Regression</td>\n",
       "    </tr>\n",
       "    <tr>\n",
       "      <th>1</th>\n",
       "      <td>0.690927</td>\n",
       "      <td>0.045696</td>\n",
       "      <td>Support Vector Machines</td>\n",
       "    </tr>\n",
       "    <tr>\n",
       "      <th>2</th>\n",
       "      <td>0.690927</td>\n",
       "      <td>0.040347</td>\n",
       "      <td>Linear SVC</td>\n",
       "    </tr>\n",
       "    <tr>\n",
       "      <th>3</th>\n",
       "      <td>0.667165</td>\n",
       "      <td>0.035364</td>\n",
       "      <td>KNN</td>\n",
       "    </tr>\n",
       "    <tr>\n",
       "      <th>4</th>\n",
       "      <td>0.662014</td>\n",
       "      <td>0.054316</td>\n",
       "      <td>Random Forest</td>\n",
       "    </tr>\n",
       "    <tr>\n",
       "      <th>5</th>\n",
       "      <td>0.612662</td>\n",
       "      <td>0.036327</td>\n",
       "      <td>Decision Tree</td>\n",
       "    </tr>\n",
       "  </tbody>\n",
       "</table>\n",
       "</div>"
      ],
      "text/plain": [
       "   Cross Validation Mean  Cross Validation Std                Algorithm\n",
       "0               0.699568              0.047921      Logistic Regression\n",
       "1               0.690927              0.045696  Support Vector Machines\n",
       "2               0.690927              0.040347               Linear SVC\n",
       "3               0.667165              0.035364                      KNN\n",
       "4               0.662014              0.054316            Random Forest\n",
       "5               0.612662              0.036327            Decision Tree"
      ]
     },
     "execution_count": 199,
     "metadata": {},
     "output_type": "execute_result"
    }
   ],
   "source": [
    "cv_res = pd.DataFrame({'Cross Validation Mean': cv_mean, 'Cross Validation Std': cv_std, 'Algorithm': ['Logistic Regression', 'Support Vector Machines', 'KNN', 'Linear SVC', 'Decision Tree', 'Random Forest']})\n",
    "cv_res.sort_values(by = 'Cross Validation Mean', ascending = False, ignore_index = True)"
   ]
  },
  {
   "cell_type": "code",
   "execution_count": 200,
   "id": "8ded8d3a-6e9e-4e6b-9285-e78f020a807c",
   "metadata": {},
   "outputs": [
    {
     "name": "stderr",
     "output_type": "stream",
     "text": [
      "C:\\Users\\91630\\AppData\\Local\\Programs\\Python\\Python310\\lib\\site-packages\\seaborn\\_decorators.py:36: FutureWarning: Pass the following variables as keyword args: x, y. From version 0.12, the only valid positional argument will be `data`, and passing other arguments without an explicit keyword will result in an error or misinterpretation.\n",
      "  warnings.warn(\n"
     ]
    },
    {
     "ename": "TypeError",
     "evalue": "'str' object is not callable",
     "output_type": "error",
     "traceback": [
      "\u001b[1;31m---------------------------------------------------------------------------\u001b[0m",
      "\u001b[1;31mTypeError\u001b[0m                                 Traceback (most recent call last)",
      "\u001b[1;32m~\\AppData\\Local\\Temp\\ipykernel_19948\\2969084197.py\u001b[0m in \u001b[0;36m<cell line: 2>\u001b[1;34m()\u001b[0m\n\u001b[0;32m      1\u001b[0m \u001b[0msns\u001b[0m\u001b[1;33m.\u001b[0m\u001b[0mbarplot\u001b[0m\u001b[1;33m(\u001b[0m\u001b[1;34m'Cross Validation Mean'\u001b[0m\u001b[1;33m,\u001b[0m \u001b[1;34m'Algorithm'\u001b[0m\u001b[1;33m,\u001b[0m \u001b[0mdata\u001b[0m \u001b[1;33m=\u001b[0m \u001b[0mcv_res\u001b[0m\u001b[1;33m,\u001b[0m \u001b[0morder\u001b[0m \u001b[1;33m=\u001b[0m \u001b[0mcv_res\u001b[0m\u001b[1;33m.\u001b[0m\u001b[0msort_values\u001b[0m\u001b[1;33m(\u001b[0m\u001b[0mby\u001b[0m \u001b[1;33m=\u001b[0m \u001b[1;34m'Cross Validation Mean'\u001b[0m\u001b[1;33m,\u001b[0m \u001b[0mascending\u001b[0m \u001b[1;33m=\u001b[0m \u001b[1;32mFalse\u001b[0m\u001b[1;33m)\u001b[0m\u001b[1;33m[\u001b[0m\u001b[1;34m'Algorithm'\u001b[0m\u001b[1;33m]\u001b[0m\u001b[1;33m,\u001b[0m \u001b[0mpalette\u001b[0m \u001b[1;33m=\u001b[0m \u001b[1;34m'Set3'\u001b[0m\u001b[1;33m,\u001b[0m \u001b[1;33m**\u001b[0m\u001b[1;33m{\u001b[0m\u001b[1;34m'xerr'\u001b[0m\u001b[1;33m:\u001b[0m \u001b[0mcv_std\u001b[0m\u001b[1;33m}\u001b[0m\u001b[1;33m)\u001b[0m\u001b[1;33m\u001b[0m\u001b[1;33m\u001b[0m\u001b[0m\n\u001b[1;32m----> 2\u001b[1;33m \u001b[0mplt\u001b[0m\u001b[1;33m.\u001b[0m\u001b[0mylabel\u001b[0m\u001b[1;33m(\u001b[0m\u001b[1;34m'Algorithm'\u001b[0m\u001b[1;33m)\u001b[0m\u001b[1;33m\u001b[0m\u001b[1;33m\u001b[0m\u001b[0m\n\u001b[0m\u001b[0;32m      3\u001b[0m \u001b[0mplt\u001b[0m\u001b[1;33m.\u001b[0m\u001b[0mtitle\u001b[0m\u001b[1;33m(\u001b[0m\u001b[1;34m'Cross Validation Scores'\u001b[0m\u001b[1;33m)\u001b[0m\u001b[1;33m\u001b[0m\u001b[1;33m\u001b[0m\u001b[0m\n",
      "\u001b[1;31mTypeError\u001b[0m: 'str' object is not callable"
     ]
    },
    {
     "data": {
      "image/png": "[encoded data removed]",
      "text/plain": [
       "<Figure size 432x288 with 1 Axes>"
      ]
     },
     "metadata": {
      "needs_background": "light"
     },
     "output_type": "display_data"
    }
   ],
   "source": [
    "sns.barplot('Cross Validation Mean', 'Algorithm', data = cv_res, order = cv_res.sort_values(by = 'Cross Validation Mean', ascending = False)['Algorithm'], palette = 'Set3', **{'xerr': cv_std})\n",
    "plt.ylabel('Algorithm')\n",
    "plt.title('Cross Validation Scores')"
   ]
  },
  {
   "cell_type": "code",
   "execution_count": 201,
   "id": "04b5053d-4979-44aa-96ac-426b6a7bb3a8",
   "metadata": {},
   "outputs": [
    {
     "name": "stdout",
     "output_type": "stream",
     "text": [
      "{'n_estimators': [5, 6, 7, 8, 9, 10, 11, 12, 13, 15], 'max_features': ['auto', 'log2'], 'max_depth': [5, 10, None], 'bootstrap': [True, False]}\n"
     ]
    }
   ],
   "source": [
    "from sklearn.model_selection import RandomizedSearchCV\n",
    "\n",
    "n_estimators = [int(x) for x in np.linspace(start = 5 , stop = 15, num = 10)] # returns 10 numbers \n",
    "\n",
    "max_features = ['auto', 'log2']\n",
    "\n",
    "max_depth = [int(x) for x in np.linspace(5, 10, num = 2)] \n",
    "\n",
    "max_depth.append(None)\n",
    "\n",
    "bootstrap = [True, False]\n",
    "\n",
    "r_grid = {'n_estimators': n_estimators,\n",
    "\n",
    "               'max_features': max_features,\n",
    "\n",
    "               'max_depth': max_depth,\n",
    "\n",
    "               'bootstrap': bootstrap}\n",
    "\n",
    "print(r_grid)"
   ]
  },
  {
   "cell_type": "code",
   "execution_count": 202,
   "id": "ab16c29d",
   "metadata": {
    "papermill": {
     "duration": 0.060471,
     "end_time": "2022-08-04T13:58:26.460165",
     "exception": false,
     "start_time": "2022-08-04T13:58:26.399694",
     "status": "completed"
    },
    "tags": []
   },
   "outputs": [
    {
     "name": "stdout",
     "output_type": "stream",
     "text": [
      "[[704 235]\n",
      " [207 449]]\n",
      "\n",
      "\n",
      "              precision    recall  f1-score   support\n",
      "\n",
      "           0       0.77      0.75      0.76       939\n",
      "           1       0.66      0.68      0.67       656\n",
      "\n",
      "    accuracy                           0.72      1595\n",
      "   macro avg       0.71      0.72      0.72      1595\n",
      "weighted avg       0.72      0.72      0.72      1595\n",
      "\n"
     ]
    },
    {
     "data": {
      "text/plain": [
       "0.8931538717181788"
      ]
     },
     "execution_count": 202,
     "metadata": {},
     "output_type": "execute_result"
    }
   ],
   "source": [
    "from sklearn.metrics import confusion_matrix, classification_report\n",
    "print(confusion_matrix(Y_test, Y_pred))\n",
    "print('\\n')\n",
    "print(classification_report(Y_test, Y_pred))\n",
    "lr.score(X_train, Y_train)"
   ]
  },
  {
   "cell_type": "markdown",
   "id": "2e46b550",
   "metadata": {
    "papermill": {
     "duration": 0.015456,
     "end_time": "2022-08-04T13:58:26.492122",
     "exception": false,
     "start_time": "2022-08-04T13:58:26.476666",
     "status": "completed"
    },
    "tags": []
   },
   "source": [
    "**the overall accuracy is 89.00%**"
   ]
  },
  {
   "cell_type": "markdown",
   "id": "3d2f9e0b",
   "metadata": {
    "papermill": {
     "duration": 0.014807,
     "end_time": "2022-08-04T13:58:26.522385",
     "exception": false,
     "start_time": "2022-08-04T13:58:26.507578",
     "status": "completed"
    },
    "tags": []
   },
   "source": [
    "# Testing With personal review."
   ]
  },
  {
   "cell_type": "code",
   "execution_count": 203,
   "id": "23b97bf7",
   "metadata": {
    "papermill": {
     "duration": 0.025359,
     "end_time": "2022-08-04T13:58:26.564249",
     "exception": false,
     "start_time": "2022-08-04T13:58:26.538890",
     "status": "completed"
    },
    "tags": []
   },
   "outputs": [
    {
     "name": "stdout",
     "output_type": "stream",
     "text": [
      "flood kill\n"
     ]
    }
   ],
   "source": [
    "text=\"flood killed people\"\n",
    "\n",
    "text=cleanstr(text)\n",
    "text=remove_stopwords(text)\n",
    "text=(lemmatize(text))\n",
    "print(text)"
   ]
  },
  {
   "cell_type": "code",
   "execution_count": 204,
   "id": "fb9f262f",
   "metadata": {
    "papermill": {
     "duration": 0.025899,
     "end_time": "2022-08-04T13:58:26.606296",
     "exception": false,
     "start_time": "2022-08-04T13:58:26.580397",
     "status": "completed"
    },
    "tags": []
   },
   "outputs": [
    {
     "name": "stdout",
     "output_type": "stream",
     "text": [
      "Negative\n"
     ]
    }
   ],
   "source": [
    "vec=tfidf.transform([text])\n",
    "pre=lr.predict(vec)\n",
    "if pre==1:\n",
    "    print(\"Negative\")\n",
    "else:\n",
    "    print(\"Positive\")\n"
   ]
  },
  {
   "cell_type": "code",
   "execution_count": 205,
   "id": "dbfa124b-b684-4f99-abc9-bb9f05f52b5f",
   "metadata": {},
   "outputs": [
    {
     "name": "stdout",
     "output_type": "stream",
     "text": [
      "['__class__', '__delattr__', '__dict__', '__dir__', '__doc__', '__eq__', '__format__', '__ge__', '__getattribute__', '__getstate__', '__gt__', '__hash__', '__init__', '__init_subclass__', '__le__', '__lt__', '__module__', '__ne__', '__new__', '__reduce__', '__reduce_ex__', '__repr__', '__setattr__', '__sizeof__', '__slots__', '__str__', '__subclasshook__', '__weakref__', '_api', '_json', 'author', 'contributors', 'coordinates', 'created_at', 'destroy', 'display_text_range', 'entities', 'favorite', 'favorite_count', 'favorited', 'full_text', 'geo', 'id', 'id_str', 'in_reply_to_screen_name', 'in_reply_to_status_id', 'in_reply_to_status_id_str', 'in_reply_to_user_id', 'in_reply_to_user_id_str', 'is_quote_status', 'lang', 'metadata', 'parse', 'parse_list', 'place', 'retweet', 'retweet_count', 'retweeted', 'retweeted_status', 'retweets', 'source', 'source_url', 'truncated', 'user']\n",
      "RT @SRSO_Official: #Mosquito control drive of SRSO against Emerging Cases of #malaria &amp; #dangue fever, through spray &amp; #fumigation in #rura…\n"
     ]
    }
   ],
   "source": [
    "%run ./Untitled1.ipynb"
   ]
  },
  {
   "cell_type": "code",
   "execution_count": 206,
   "id": "82ea44ba-0cad-497d-9625-c6f7cdb9c129",
   "metadata": {},
   "outputs": [
    {
     "data": {
      "text/plain": [
       "'rt berlinergazette decolonization anyone reparation repair life aftermath disaster text nishat awan en t…'"
      ]
     },
     "execution_count": 206,
     "metadata": {},
     "output_type": "execute_result"
    }
   ],
   "source": [
    "tweet['tweets']=tweet['tweets'].apply(cleanstr)\n",
    "tweet['tweets']=tweet['tweets'].apply(remove_stopwords)\n",
    "tweet['tweets']=tweet['tweets'].apply(lemmatize)\n",
    "tweet['tweets'].iloc[0]"
   ]
  },
  {
   "cell_type": "code",
   "execution_count": 207,
   "id": "03967855-f071-439e-8220-4b9adecfe3d1",
   "metadata": {},
   "outputs": [],
   "source": [
    "tweetss = tfidf.transform(tweet['tweets'])\n"
   ]
  },
  {
   "cell_type": "code",
   "execution_count": 208,
   "id": "70050471-b76a-4172-a2eb-51fcb10e6902",
   "metadata": {},
   "outputs": [],
   "source": [
    "pred=lr.predict(tweetss)"
   ]
  },
  {
   "cell_type": "code",
   "execution_count": 209,
   "id": "62ceb15e-1c16-4970-a20b-e6b93f047107",
   "metadata": {},
   "outputs": [
    {
     "data": {
      "text/plain": [
       "array([1, 1, 0, 1, 1, 1, 1, 1, 1, 1, 1, 1, 1, 1, 1, 1, 1], dtype=int64)"
      ]
     },
     "execution_count": 209,
     "metadata": {},
     "output_type": "execute_result"
    }
   ],
   "source": [
    "pred"
   ]
  },
  {
   "cell_type": "markdown",
   "id": "f28ea204-39cf-4667-871b-e9da831a9eb4",
   "metadata": {},
   "source": [
    "# Bigrams\n"
   ]
  },
  {
   "cell_type": "code",
   "execution_count": null,
   "id": "7d1b4287-eb73-4a19-84ba-8bc7380883d3",
   "metadata": {},
   "outputs": [],
   "source": []
  },
  {
   "cell_type": "code",
   "execution_count": null,
   "id": "ddb55f89-956b-4cf4-95f4-fb05f6221b93",
   "metadata": {},
   "outputs": [],
   "source": []
  }
 ],
 "metadata": {
  "kernelspec": {
   "display_name": "Python 3 (ipykernel)",
   "language": "python",
   "name": "python3"
  },
  "language_info": {
   "codemirror_mode": {
    "name": "ipython",
    "version": 3
   },
   "file_extension": ".py",
   "mimetype": "text/x-python",
   "name": "python",
   "nbconvert_exporter": "python",
   "pygments_lexer": "ipython3",
   "version": "3.10.4"
  },
  "papermill": {
   "default_parameters": {},
   "duration": 110.616118,
   "end_time": "2022-08-04T13:58:27.542785",
   "environment_variables": {},
   "exception": null,
   "input_path": "__notebook__.ipynb",
   "output_path": "__notebook__.ipynb",
   "parameters": {},
   "start_time": "2022-08-04T13:56:36.926667",
   "version": "2.3.4"
  }
 },
 "nbformat": 4,
 "nbformat_minor": 5
}
